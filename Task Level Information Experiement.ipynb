{
 "cells": [
  {
   "cell_type": "code",
   "execution_count": 1,
   "metadata": {},
   "outputs": [],
   "source": [
    "from tqdm.notebook import tqdm\n",
    "import itertools\n",
    "import os\n",
    "import json\n",
    "from collections import defaultdict\n",
    "import itertools\n",
    "import pandas as pd\n",
    "import scipy.stats as stats\n",
    "import matplotlib.pyplot as plt\n",
    "import numpy as np\n",
    "import pickle\n",
    "import random\n",
    "import seaborn as sns\n",
    "import scipy.stats as stats\n",
    "import copy\n",
    "import pandas as pd\n",
    "#import seaborn as sns\n",
    "import seaborn as sns\n",
    "from matplotlib import rcParams\n",
    "import scipy\n",
    "from utils import *"
   ]
  },
  {
   "cell_type": "markdown",
   "metadata": {},
   "source": [
    "# Each version of the dataset in the form of :\n",
    "\n",
    "$$Score_1 = \\begin{bmatrix} &  T_{1} & \\cdots & T_{|T|}\\\\\n",
    "S_1 & \\cdots & \\cdots & \\cdots \\\\\n",
    "S_2 & \\cdots &\\cdots & \\cdots \\\\\n",
    "\\cdots &\\cdots &\\cdots& \\cdots \\\\\n",
    "S_{|S|} & \\cdots& \\cdots& \\cdots  \\\\\n",
    "\\end{bmatrix}$$, \n",
    "\n",
    "where each score of the task is a column of the matrix"
   ]
  },
  {
   "cell_type": "markdown",
   "metadata": {},
   "source": [
    "Currently I have collected data for [GLUE](https://openreview.net/pdf?id=rJ4km2R5t7) , [SUPERGLUE](https://arxiv.org/abs/1905.00537) , [XTREME](https://arxiv.org/pdf/2104.07412.pdf) "
   ]
  },
  {
   "cell_type": "markdown",
   "metadata": {},
   "source": [
    "### Global analysis"
   ]
  },
  {
   "cell_type": "code",
   "execution_count": 45,
   "metadata": {},
   "outputs": [],
   "source": [
    "DATASETS = ['xtrem','glue','superglue'] # available datasets\n",
    "number = 0 # which dataset to load"
   ]
  },
  {
   "cell_type": "code",
   "execution_count": 58,
   "metadata": {},
   "outputs": [
    {
     "name": "stdout",
     "output_type": "stream",
     "text": [
      "Loading xtrem\n",
      "Shape (15, 5)\n",
      "Loading glue\n",
      "Shape (105, 15)\n",
      "Loading superglue\n",
      "Shape (24, 15)\n",
      "Number of points 2010\n"
     ]
    }
   ],
   "source": [
    "count = 0\n",
    "for ds in  DATASETS:\n",
    "    print('Loading',ds)\n",
    "    df =  pd.read_csv('data/{}.data'.format(ds),index_col=False)\n",
    "    df =  pd.read_csv('data/{}.data'.format(ds),index_col=False,usecols = [i for i in range(df.shape[1]) if i!=1]) #filter columns\n",
    "    count +=  df.shape[0]* df.shape[1]\n",
    "    print('Shape',df.shape)\n",
    "print('Number of points',count)"
   ]
  },
  {
   "cell_type": "code",
   "execution_count": 46,
   "metadata": {},
   "outputs": [
    {
     "name": "stdout",
     "output_type": "stream",
     "text": [
      "Loading xtrem\n"
     ]
    },
    {
     "name": "stderr",
     "output_type": "stream",
     "text": [
      "/Users/Ebenge/anaconda3/lib/python3.8/site-packages/pandas/util/_decorators.py:311: ParserWarning: Length of header or names does not match length of data. This leads to a loss of data with index_col=False.\n",
      "  return func(*args, **kwargs)\n"
     ]
    }
   ],
   "source": [
    "print('Loading', DATASETS[number])\n",
    "df =  pd.read_csv('data/{}.data'.format(DATASETS[number]),index_col=False)\n",
    "df =  pd.read_csv('data/{}.data'.format(DATASETS[number]),index_col=False,usecols = [i for i in range(df.shape[1]) if i!=1]) #filter columns"
   ]
  },
  {
   "cell_type": "code",
   "execution_count": 47,
   "metadata": {},
   "outputs": [
    {
     "name": "stdout",
     "output_type": "stream",
     "text": [
      "Borda Distorsion 12.25\n",
      "Mean Distorsion 12.75\n"
     ]
    },
    {
     "data": {
      "application/vnd.jupyter.widget-view+json": {
       "model_id": "38df13d95a2b474380ce7c57fd4cdb2a",
       "version_major": 2,
       "version_minor": 0
      },
      "text/plain": [
       "HBox(children=(FloatProgress(value=0.0), HTML(value='')))"
      ]
     },
     "metadata": {},
     "output_type": "display_data"
    },
    {
     "name": "stdout",
     "output_type": "stream",
     "text": [
      "\n",
      "Mean Random Distorsion 52.4\n"
     ]
    }
   ],
   "source": [
    "rankings = []\n",
    "for index,columns in df.iteritems():\n",
    "    if index != 'Model':\n",
    "        rankings.append(columns.argsort().argsort().values.tolist())\n",
    "\n",
    "ranking_borda = ranking_aggregation(df).tolist()\n",
    "print('Borda Distorsion', distorsion_measure(ranking_borda,rankings))\n",
    "\n",
    "ranking_mean = mean_aggregation(df)[0].tolist()\n",
    "print('Mean Distorsion', distorsion_measure(ranking_mean,rankings))\n",
    "\n",
    "random_correlation_measures = []\n",
    "list_to_permute = list(range(len(ranking_mean)))\n",
    "for i in tqdm(range(100)): # generate 100 random permutations\n",
    "    random.shuffle(list_to_permute)\n",
    "    random_correlation_measures.append( distorsion_measure(list_to_permute,rankings))\n",
    "\n",
    "print('Mean Random Distorsion', sum(random_correlation_measures)/len(random_correlation_measures))"
   ]
  },
  {
   "cell_type": "code",
   "execution_count": 48,
   "metadata": {},
   "outputs": [],
   "source": [
    "VISUALIZE_RANKING = False\n",
    "if VISUALIZE_RANKING:\n",
    "    df = df.set_index('Model') # display data\n",
    "    mean_ranking,means = mean_aggregation(df)\n",
    "    print('Ranking Mean',mean_ranking)\n",
    "    print('Means Scores',means)\n",
    "    ranking_borda,borda_count = ranking_aggregation(df,True)\n",
    "    print('Ranking Borda',ranking_borda)\n",
    "    print('Borda Count',borda_count)\n",
    "    df.head(20)"
   ]
  },
  {
   "cell_type": "markdown",
   "metadata": {},
   "source": [
    "#### Analyse the ranking "
   ]
  },
  {
   "cell_type": "code",
   "execution_count": 49,
   "metadata": {},
   "outputs": [
    {
     "name": "stdout",
     "output_type": "stream",
     "text": [
      "Ranking mean [14 13 11 10 12  9  7  6  8  5  3  4  2  0  1]\n",
      "Means [83.2   82.65  80.55  80.275 80.625 79.675 79.175 79.025 79.45  78.6\n",
      " 76.225 78.325 73.5   60.075 61.95 ]\n",
      "ranking_borda_reindex [ 0  1  4  2  3  5  8  6  7  9 11 10 12 14 13]\n"
     ]
    }
   ],
   "source": [
    "mean_ranking,means = mean_aggregation(df)\n",
    "mean_reindex = reverse_ranking(mean_ranking)[::-1]\n",
    "#mean_reindex = [mean_reindex.tolist().index(i) for i in range(len(mean_reindex))]\n",
    "print('Ranking mean',mean_ranking)\n",
    "print('Means',means)\n",
    "print('ranking_borda_reindex',mean_reindex)"
   ]
  },
  {
   "cell_type": "code",
   "execution_count": 50,
   "metadata": {},
   "outputs": [],
   "source": [
    "df_new = df.reindex(mean_reindex,copy = False)\n",
    "df_new.reset_index(inplace=True)\n",
    "del df_new['index']"
   ]
  },
  {
   "cell_type": "code",
   "execution_count": 51,
   "metadata": {
    "scrolled": false
   },
   "outputs": [
    {
     "data": {
      "text/html": [
       "<div>\n",
       "<style scoped>\n",
       "    .dataframe tbody tr th:only-of-type {\n",
       "        vertical-align: middle;\n",
       "    }\n",
       "\n",
       "    .dataframe tbody tr th {\n",
       "        vertical-align: top;\n",
       "    }\n",
       "\n",
       "    .dataframe thead th {\n",
       "        text-align: right;\n",
       "    }\n",
       "</style>\n",
       "<table border=\"1\" class=\"dataframe\">\n",
       "  <thead>\n",
       "    <tr style=\"text-align: right;\">\n",
       "      <th></th>\n",
       "      <th>Model</th>\n",
       "      <th>Classification</th>\n",
       "      <th>\\tStructured Prediction</th>\n",
       "      <th>\\tQuestion Answering</th>\n",
       "      <th>\\tSentence Retrieval</th>\n",
       "    </tr>\n",
       "  </thead>\n",
       "  <tbody>\n",
       "    <tr>\n",
       "      <th>0</th>\n",
       "      <td>Turing ULR v5\\tAlexander v-team\\tMicrosoft\\tNo...</td>\n",
       "      <td>84.5</td>\n",
       "      <td>90.3</td>\n",
       "      <td>81.7</td>\n",
       "      <td>76.3</td>\n",
       "    </tr>\n",
       "    <tr>\n",
       "      <th>1</th>\n",
       "      <td>CoFe\\tHFL\\tiFLYTEK\\tOct 26  2021\\t            ...</td>\n",
       "      <td>84.1</td>\n",
       "      <td>90.1</td>\n",
       "      <td>81.4</td>\n",
       "      <td>75.0</td>\n",
       "    </tr>\n",
       "    <tr>\n",
       "      <th>2</th>\n",
       "      <td>Polyglot\\tMLNLC\\tByteDance\\tApr 29  2021\\t    ...</td>\n",
       "      <td>81.7</td>\n",
       "      <td>88.3</td>\n",
       "      <td>80.6</td>\n",
       "      <td>71.9</td>\n",
       "    </tr>\n",
       "    <tr>\n",
       "      <th>3</th>\n",
       "      <td>InfoXLM-XFT\\tNoah's Ark Lab\\tHuawei\\tOct 5  20...</td>\n",
       "      <td>82.2</td>\n",
       "      <td>89.3</td>\n",
       "      <td>75.5</td>\n",
       "      <td>75.2</td>\n",
       "    </tr>\n",
       "    <tr>\n",
       "      <th>4</th>\n",
       "      <td>VECO + HICTL\\tAliceMind + MT\\tAlibaba\\tSep 21 ...</td>\n",
       "      <td>82.0</td>\n",
       "      <td>89.0</td>\n",
       "      <td>76.7</td>\n",
       "      <td>73.4</td>\n",
       "    </tr>\n",
       "    <tr>\n",
       "      <th>5</th>\n",
       "      <td>Unicoder + ZCode\\tMSRA + Cognition\\tMicrosoft\\...</td>\n",
       "      <td>81.6</td>\n",
       "      <td>88.4</td>\n",
       "      <td>76.2</td>\n",
       "      <td>72.5</td>\n",
       "    </tr>\n",
       "    <tr>\n",
       "      <th>6</th>\n",
       "      <td>T-ULRv2 + StableTune\\tTuring\\tMicrosoft\\tOct 7...</td>\n",
       "      <td>80.7</td>\n",
       "      <td>88.8</td>\n",
       "      <td>75.4</td>\n",
       "      <td>72.9</td>\n",
       "    </tr>\n",
       "    <tr>\n",
       "      <th>7</th>\n",
       "      <td>ERNIE-M\\tERNIE Team\\tBaidu\\tJan 1  2021\\t     ...</td>\n",
       "      <td>80.9</td>\n",
       "      <td>87.9</td>\n",
       "      <td>75.6</td>\n",
       "      <td>72.3</td>\n",
       "    </tr>\n",
       "    <tr>\n",
       "      <th>8</th>\n",
       "      <td>HiCTL\\tDAMO MT Team\\tAlibaba\\tMar 21  2021\\t  ...</td>\n",
       "      <td>80.8</td>\n",
       "      <td>89.0</td>\n",
       "      <td>74.4</td>\n",
       "      <td>71.9</td>\n",
       "    </tr>\n",
       "    <tr>\n",
       "      <th>9</th>\n",
       "      <td>Anonymous3\\tAnonymous3\\tAnonymous3\\tJan 3  202...</td>\n",
       "      <td>79.9</td>\n",
       "      <td>88.2</td>\n",
       "      <td>74.6</td>\n",
       "      <td>71.7</td>\n",
       "    </tr>\n",
       "    <tr>\n",
       "      <th>10</th>\n",
       "      <td>Creative\\tCreative\\tMicrosoft\\tSep 8  2021\\t  ...</td>\n",
       "      <td>76.5</td>\n",
       "      <td>86.3</td>\n",
       "      <td>90.8</td>\n",
       "      <td>59.7</td>\n",
       "    </tr>\n",
       "    <tr>\n",
       "      <th>11</th>\n",
       "      <td>FILTER\\tDynamics 365 AI Research\\tMicrosoft\\tS...</td>\n",
       "      <td>77.0</td>\n",
       "      <td>87.5</td>\n",
       "      <td>71.9</td>\n",
       "      <td>68.5</td>\n",
       "    </tr>\n",
       "    <tr>\n",
       "      <th>12</th>\n",
       "      <td>X-STILTs\\tPhang et al.\\tNew York University\\tJ...</td>\n",
       "      <td>73.5</td>\n",
       "      <td>83.9</td>\n",
       "      <td>69.4</td>\n",
       "      <td>67.2</td>\n",
       "    </tr>\n",
       "    <tr>\n",
       "      <th>13</th>\n",
       "      <td>Anonymous5\\tAnonymous5\\tAnonymous5\\tMar 4  202...</td>\n",
       "      <td>53.1</td>\n",
       "      <td>75.3</td>\n",
       "      <td>66.9</td>\n",
       "      <td>52.5</td>\n",
       "    </tr>\n",
       "    <tr>\n",
       "      <th>14</th>\n",
       "      <td>XLM\\tXTREME Team\\tAlphabet  CMU\\t-\\t          ...</td>\n",
       "      <td>55.8</td>\n",
       "      <td>75.0</td>\n",
       "      <td>65.6</td>\n",
       "      <td>43.9</td>\n",
       "    </tr>\n",
       "  </tbody>\n",
       "</table>\n",
       "</div>"
      ],
      "text/plain": [
       "                                                Model   Classification  \\\n",
       "0   Turing ULR v5\\tAlexander v-team\\tMicrosoft\\tNo...             84.5   \n",
       "1   CoFe\\tHFL\\tiFLYTEK\\tOct 26  2021\\t            ...             84.1   \n",
       "2   Polyglot\\tMLNLC\\tByteDance\\tApr 29  2021\\t    ...             81.7   \n",
       "3   InfoXLM-XFT\\tNoah's Ark Lab\\tHuawei\\tOct 5  20...             82.2   \n",
       "4   VECO + HICTL\\tAliceMind + MT\\tAlibaba\\tSep 21 ...             82.0   \n",
       "5   Unicoder + ZCode\\tMSRA + Cognition\\tMicrosoft\\...             81.6   \n",
       "6   T-ULRv2 + StableTune\\tTuring\\tMicrosoft\\tOct 7...             80.7   \n",
       "7   ERNIE-M\\tERNIE Team\\tBaidu\\tJan 1  2021\\t     ...             80.9   \n",
       "8   HiCTL\\tDAMO MT Team\\tAlibaba\\tMar 21  2021\\t  ...             80.8   \n",
       "9   Anonymous3\\tAnonymous3\\tAnonymous3\\tJan 3  202...             79.9   \n",
       "10  Creative\\tCreative\\tMicrosoft\\tSep 8  2021\\t  ...             76.5   \n",
       "11  FILTER\\tDynamics 365 AI Research\\tMicrosoft\\tS...             77.0   \n",
       "12  X-STILTs\\tPhang et al.\\tNew York University\\tJ...             73.5   \n",
       "13  Anonymous5\\tAnonymous5\\tAnonymous5\\tMar 4  202...             53.1   \n",
       "14  XLM\\tXTREME Team\\tAlphabet  CMU\\t-\\t          ...             55.8   \n",
       "\n",
       "    \\tStructured Prediction  \\tQuestion Answering  \\tSentence Retrieval  \n",
       "0                      90.3                  81.7                  76.3  \n",
       "1                      90.1                  81.4                  75.0  \n",
       "2                      88.3                  80.6                  71.9  \n",
       "3                      89.3                  75.5                  75.2  \n",
       "4                      89.0                  76.7                  73.4  \n",
       "5                      88.4                  76.2                  72.5  \n",
       "6                      88.8                  75.4                  72.9  \n",
       "7                      87.9                  75.6                  72.3  \n",
       "8                      89.0                  74.4                  71.9  \n",
       "9                      88.2                  74.6                  71.7  \n",
       "10                     86.3                  90.8                  59.7  \n",
       "11                     87.5                  71.9                  68.5  \n",
       "12                     83.9                  69.4                  67.2  \n",
       "13                     75.3                  66.9                  52.5  \n",
       "14                     75.0                  65.6                  43.9  "
      ]
     },
     "execution_count": 51,
     "metadata": {},
     "output_type": "execute_result"
    }
   ],
   "source": [
    "df_new.head(20)"
   ]
  },
  {
   "cell_type": "code",
   "execution_count": 52,
   "metadata": {},
   "outputs": [
    {
     "name": "stdout",
     "output_type": "stream",
     "text": [
      "Ranking Borda [14 13  9 12 11 10  8  6  7  4  5  3  2  1  0]\n",
      "Count Borda [55 50 34 44 42 35 31 29 29 21 22 15  9  3  1]\n",
      "ranking_borda_reindex [ 0  1  3  4  5  2  6  8  7 10  9 11 12 13 14]\n",
      "Sorted Borda Ciount [55, 50, 44, 42, 35, 34, 31, 29, 29, 22, 21, 15, 9, 3, 1]\n"
     ]
    }
   ],
   "source": [
    "ranking_borda,borda_count = ranking_aggregation(df_new,True)\n",
    "ranking_borda_reindex = reverse_ranking(ranking_borda)[::-1]\n",
    "#ranking_borda_reindex = [ranking_borda_reindex.tolist().index(i) for i in range(len(ranking_borda_reindex))]\n",
    "print('Ranking Borda',ranking_borda)\n",
    "print('Count Borda',borda_count)\n",
    "print('ranking_borda_reindex',ranking_borda_reindex)\n",
    "print('Sorted Borda Ciount',sorted(borda_count)[::-1])"
   ]
  },
  {
   "cell_type": "code",
   "execution_count": 53,
   "metadata": {},
   "outputs": [
    {
     "data": {
      "text/html": [
       "<div>\n",
       "<style scoped>\n",
       "    .dataframe tbody tr th:only-of-type {\n",
       "        vertical-align: middle;\n",
       "    }\n",
       "\n",
       "    .dataframe tbody tr th {\n",
       "        vertical-align: top;\n",
       "    }\n",
       "\n",
       "    .dataframe thead th {\n",
       "        text-align: right;\n",
       "    }\n",
       "</style>\n",
       "<table border=\"1\" class=\"dataframe\">\n",
       "  <thead>\n",
       "    <tr style=\"text-align: right;\">\n",
       "      <th></th>\n",
       "      <th>Model</th>\n",
       "      <th>Classification</th>\n",
       "      <th>\\tStructured Prediction</th>\n",
       "      <th>\\tQuestion Answering</th>\n",
       "      <th>\\tSentence Retrieval</th>\n",
       "    </tr>\n",
       "  </thead>\n",
       "  <tbody>\n",
       "    <tr>\n",
       "      <th>0</th>\n",
       "      <td>Turing ULR v5\\tAlexander v-team\\tMicrosoft\\tNo...</td>\n",
       "      <td>84.5</td>\n",
       "      <td>90.3</td>\n",
       "      <td>81.7</td>\n",
       "      <td>76.3</td>\n",
       "    </tr>\n",
       "    <tr>\n",
       "      <th>1</th>\n",
       "      <td>CoFe\\tHFL\\tiFLYTEK\\tOct 26  2021\\t            ...</td>\n",
       "      <td>84.1</td>\n",
       "      <td>90.1</td>\n",
       "      <td>81.4</td>\n",
       "      <td>75.0</td>\n",
       "    </tr>\n",
       "    <tr>\n",
       "      <th>3</th>\n",
       "      <td>InfoXLM-XFT\\tNoah's Ark Lab\\tHuawei\\tOct 5  20...</td>\n",
       "      <td>82.2</td>\n",
       "      <td>89.3</td>\n",
       "      <td>75.5</td>\n",
       "      <td>75.2</td>\n",
       "    </tr>\n",
       "    <tr>\n",
       "      <th>4</th>\n",
       "      <td>VECO + HICTL\\tAliceMind + MT\\tAlibaba\\tSep 21 ...</td>\n",
       "      <td>82.0</td>\n",
       "      <td>89.0</td>\n",
       "      <td>76.7</td>\n",
       "      <td>73.4</td>\n",
       "    </tr>\n",
       "    <tr>\n",
       "      <th>5</th>\n",
       "      <td>Unicoder + ZCode\\tMSRA + Cognition\\tMicrosoft\\...</td>\n",
       "      <td>81.6</td>\n",
       "      <td>88.4</td>\n",
       "      <td>76.2</td>\n",
       "      <td>72.5</td>\n",
       "    </tr>\n",
       "    <tr>\n",
       "      <th>2</th>\n",
       "      <td>Polyglot\\tMLNLC\\tByteDance\\tApr 29  2021\\t    ...</td>\n",
       "      <td>81.7</td>\n",
       "      <td>88.3</td>\n",
       "      <td>80.6</td>\n",
       "      <td>71.9</td>\n",
       "    </tr>\n",
       "    <tr>\n",
       "      <th>6</th>\n",
       "      <td>T-ULRv2 + StableTune\\tTuring\\tMicrosoft\\tOct 7...</td>\n",
       "      <td>80.7</td>\n",
       "      <td>88.8</td>\n",
       "      <td>75.4</td>\n",
       "      <td>72.9</td>\n",
       "    </tr>\n",
       "    <tr>\n",
       "      <th>8</th>\n",
       "      <td>HiCTL\\tDAMO MT Team\\tAlibaba\\tMar 21  2021\\t  ...</td>\n",
       "      <td>80.8</td>\n",
       "      <td>89.0</td>\n",
       "      <td>74.4</td>\n",
       "      <td>71.9</td>\n",
       "    </tr>\n",
       "    <tr>\n",
       "      <th>7</th>\n",
       "      <td>ERNIE-M\\tERNIE Team\\tBaidu\\tJan 1  2021\\t     ...</td>\n",
       "      <td>80.9</td>\n",
       "      <td>87.9</td>\n",
       "      <td>75.6</td>\n",
       "      <td>72.3</td>\n",
       "    </tr>\n",
       "    <tr>\n",
       "      <th>10</th>\n",
       "      <td>Creative\\tCreative\\tMicrosoft\\tSep 8  2021\\t  ...</td>\n",
       "      <td>76.5</td>\n",
       "      <td>86.3</td>\n",
       "      <td>90.8</td>\n",
       "      <td>59.7</td>\n",
       "    </tr>\n",
       "    <tr>\n",
       "      <th>9</th>\n",
       "      <td>Anonymous3\\tAnonymous3\\tAnonymous3\\tJan 3  202...</td>\n",
       "      <td>79.9</td>\n",
       "      <td>88.2</td>\n",
       "      <td>74.6</td>\n",
       "      <td>71.7</td>\n",
       "    </tr>\n",
       "    <tr>\n",
       "      <th>11</th>\n",
       "      <td>FILTER\\tDynamics 365 AI Research\\tMicrosoft\\tS...</td>\n",
       "      <td>77.0</td>\n",
       "      <td>87.5</td>\n",
       "      <td>71.9</td>\n",
       "      <td>68.5</td>\n",
       "    </tr>\n",
       "    <tr>\n",
       "      <th>12</th>\n",
       "      <td>X-STILTs\\tPhang et al.\\tNew York University\\tJ...</td>\n",
       "      <td>73.5</td>\n",
       "      <td>83.9</td>\n",
       "      <td>69.4</td>\n",
       "      <td>67.2</td>\n",
       "    </tr>\n",
       "    <tr>\n",
       "      <th>13</th>\n",
       "      <td>Anonymous5\\tAnonymous5\\tAnonymous5\\tMar 4  202...</td>\n",
       "      <td>53.1</td>\n",
       "      <td>75.3</td>\n",
       "      <td>66.9</td>\n",
       "      <td>52.5</td>\n",
       "    </tr>\n",
       "    <tr>\n",
       "      <th>14</th>\n",
       "      <td>XLM\\tXTREME Team\\tAlphabet  CMU\\t-\\t          ...</td>\n",
       "      <td>55.8</td>\n",
       "      <td>75.0</td>\n",
       "      <td>65.6</td>\n",
       "      <td>43.9</td>\n",
       "    </tr>\n",
       "  </tbody>\n",
       "</table>\n",
       "</div>"
      ],
      "text/plain": [
       "                                                Model   Classification  \\\n",
       "0   Turing ULR v5\\tAlexander v-team\\tMicrosoft\\tNo...             84.5   \n",
       "1   CoFe\\tHFL\\tiFLYTEK\\tOct 26  2021\\t            ...             84.1   \n",
       "3   InfoXLM-XFT\\tNoah's Ark Lab\\tHuawei\\tOct 5  20...             82.2   \n",
       "4   VECO + HICTL\\tAliceMind + MT\\tAlibaba\\tSep 21 ...             82.0   \n",
       "5   Unicoder + ZCode\\tMSRA + Cognition\\tMicrosoft\\...             81.6   \n",
       "2   Polyglot\\tMLNLC\\tByteDance\\tApr 29  2021\\t    ...             81.7   \n",
       "6   T-ULRv2 + StableTune\\tTuring\\tMicrosoft\\tOct 7...             80.7   \n",
       "8   HiCTL\\tDAMO MT Team\\tAlibaba\\tMar 21  2021\\t  ...             80.8   \n",
       "7   ERNIE-M\\tERNIE Team\\tBaidu\\tJan 1  2021\\t     ...             80.9   \n",
       "10  Creative\\tCreative\\tMicrosoft\\tSep 8  2021\\t  ...             76.5   \n",
       "9   Anonymous3\\tAnonymous3\\tAnonymous3\\tJan 3  202...             79.9   \n",
       "11  FILTER\\tDynamics 365 AI Research\\tMicrosoft\\tS...             77.0   \n",
       "12  X-STILTs\\tPhang et al.\\tNew York University\\tJ...             73.5   \n",
       "13  Anonymous5\\tAnonymous5\\tAnonymous5\\tMar 4  202...             53.1   \n",
       "14  XLM\\tXTREME Team\\tAlphabet  CMU\\t-\\t          ...             55.8   \n",
       "\n",
       "    \\tStructured Prediction  \\tQuestion Answering  \\tSentence Retrieval  \n",
       "0                      90.3                  81.7                  76.3  \n",
       "1                      90.1                  81.4                  75.0  \n",
       "3                      89.3                  75.5                  75.2  \n",
       "4                      89.0                  76.7                  73.4  \n",
       "5                      88.4                  76.2                  72.5  \n",
       "2                      88.3                  80.6                  71.9  \n",
       "6                      88.8                  75.4                  72.9  \n",
       "8                      89.0                  74.4                  71.9  \n",
       "7                      87.9                  75.6                  72.3  \n",
       "10                     86.3                  90.8                  59.7  \n",
       "9                      88.2                  74.6                  71.7  \n",
       "11                     87.5                  71.9                  68.5  \n",
       "12                     83.9                  69.4                  67.2  \n",
       "13                     75.3                  66.9                  52.5  \n",
       "14                     75.0                  65.6                  43.9  "
      ]
     },
     "execution_count": 53,
     "metadata": {},
     "output_type": "execute_result"
    }
   ],
   "source": [
    "df_new.reindex(ranking_borda_reindex).head(40)"
   ]
  },
  {
   "cell_type": "code",
   "execution_count": 54,
   "metadata": {},
   "outputs": [
    {
     "data": {
      "text/plain": [
       "0     83.200\n",
       "1     82.650\n",
       "3     80.550\n",
       "4     80.275\n",
       "5     79.675\n",
       "2     80.625\n",
       "6     79.450\n",
       "8     79.025\n",
       "7     79.175\n",
       "10    78.325\n",
       "9     78.600\n",
       "11    76.225\n",
       "12    73.500\n",
       "13    61.950\n",
       "14    60.075\n",
       "dtype: float64"
      ]
     },
     "execution_count": 54,
     "metadata": {},
     "output_type": "execute_result"
    }
   ],
   "source": [
    "df_new.reindex(ranking_borda_reindex).mean(axis=1,numeric_only=True).head(20)"
   ]
  },
  {
   "cell_type": "markdown",
   "metadata": {},
   "source": [
    "## Robutness experiement when removing metrics"
   ]
  },
  {
   "cell_type": "code",
   "execution_count": 231,
   "metadata": {},
   "outputs": [],
   "source": [
    "def generate_metric_experiments_benchmark(number_of_samples,ds,seed=42):\n",
    "    df =  pd.read_csv('data/{}.data'.format(ds),index_col=False)\n",
    "    #df.dropna(inplace=True,axis=1)\n",
    "    considered_df =  pd.read_csv('data/{}.data'.format(ds),index_col=False,usecols = [i for i in range(df.shape[1]) if i!=1])\n",
    "    considered_df =considered_df.set_index(['Model'])\n",
    "    print('columns',considered_df.columns)\n",
    "    considered_columns = list(considered_df.columns)\n",
    "    random.seed(seed)\n",
    "    final_dic = {\n",
    "        'mean':{},\n",
    "        'ranking':{}\n",
    "    }\n",
    "    for i in range(1,len(considered_columns)+1):\n",
    "        final_dic['mean']['{}'.format(i)] = []\n",
    "        final_dic['ranking']['{}'.format(i)] = []\n",
    "\n",
    "    for _ in tqdm(range(number_of_samples),'Nbs of Experiments'):\n",
    "        random.shuffle(considered_columns)\n",
    "        for i in range(1,len(considered_columns)+1):\n",
    "            running_df =  considered_df[considered_columns[:i]]\n",
    "            c_mean= mean_aggregation(running_df)[0]\n",
    "            c_ranking = ranking_aggregation(running_df)\n",
    "            final_dic['mean']['{}'.format(i)].append(c_mean)\n",
    "            final_dic['ranking']['{}'.format(i)].append(c_ranking)\n",
    "    return final_dic,len(considered_columns)"
   ]
  },
  {
   "cell_type": "code",
   "execution_count": 232,
   "metadata": {},
   "outputs": [],
   "source": [
    "def compute_results_experiments_benchmark(final_dic,ds,len_norm):\n",
    "    df =  pd.read_csv('data/{}.data'.format(ds),index_col=False)\n",
    "    considered_df =  pd.read_csv('data/{}.data'.format(ds),index_col=False,usecols = [i for i in range(df.shape[1]) if i!=1])\n",
    "    print('columns',considered_df.columns)\n",
    "    considered_df =considered_df.set_index(['Model'])\n",
    "    \n",
    "    scores_to_plot = {\n",
    "    'criterion': [],\n",
    "    'method': [],\n",
    "    'correlation': [],\n",
    "        'kendallTau': [],\n",
    "    }\n",
    "    ref_ranks = {\n",
    "         'mean': mean_aggregation(considered_df)[0],\n",
    "        'ranking':  ranking_aggregation(considered_df)\n",
    "    }\n",
    "    for k,v in final_dic.items(): \n",
    "        ref_rank = ref_ranks[k]\n",
    "        for sub_k,sub_v in tqdm(v.items(),'Itterations'):\n",
    "            for score in sub_v:\n",
    "                scores_to_plot['criterion'].append(int(sub_k) / (len_norm) )\n",
    "                scores_to_plot['method'].append(k)\n",
    "                scores_to_plot['correlation'].append(stats.kendalltau(score, ref_rank)[0])\n",
    "                scores_to_plot['kendallTau'].append(kendallTau(score, ref_rank))\n",
    "    return scores_to_plot"
   ]
  },
  {
   "cell_type": "code",
   "execution_count": 233,
   "metadata": {},
   "outputs": [],
   "source": [
    "GENERATE_DATA_ROBUTNESS_METRIC  = True"
   ]
  },
  {
   "cell_type": "code",
   "execution_count": 234,
   "metadata": {
    "scrolled": false
   },
   "outputs": [
    {
     "name": "stdout",
     "output_type": "stream",
     "text": [
      "xtrem\n",
      "columns Index([' Classification', '\\tStructured Prediction', '\\tQuestion Answering',\n",
      "       '\\tSentence Retrieval'],\n",
      "      dtype='object')\n"
     ]
    },
    {
     "name": "stderr",
     "output_type": "stream",
     "text": [
      "/Users/Ebenge/anaconda3/lib/python3.8/site-packages/pandas/util/_decorators.py:311: ParserWarning: Length of header or names does not match length of data. This leads to a loss of data with index_col=False.\n",
      "  return func(*args, **kwargs)\n"
     ]
    },
    {
     "data": {
      "application/vnd.jupyter.widget-view+json": {
       "model_id": "8b5922fa51194be8ba8935335855c367",
       "version_major": 2,
       "version_minor": 0
      },
      "text/plain": [
       "HBox(children=(FloatProgress(value=0.0, description='Nbs of Experiments', max=1000.0, style=ProgressStyle(desc…"
      ]
     },
     "metadata": {},
     "output_type": "display_data"
    },
    {
     "name": "stdout",
     "output_type": "stream",
     "text": [
      "\n",
      "columns Index(['Model', ' Classification', '\\tStructured Prediction',\n",
      "       '\\tQuestion Answering', '\\tSentence Retrieval'],\n",
      "      dtype='object')\n"
     ]
    },
    {
     "data": {
      "application/vnd.jupyter.widget-view+json": {
       "model_id": "0cb6fa20ef234e67a7c58509aaf7ed83",
       "version_major": 2,
       "version_minor": 0
      },
      "text/plain": [
       "HBox(children=(FloatProgress(value=0.0, description='Itterations', max=4.0, style=ProgressStyle(description_wi…"
      ]
     },
     "metadata": {},
     "output_type": "display_data"
    },
    {
     "name": "stdout",
     "output_type": "stream",
     "text": [
      "\n"
     ]
    },
    {
     "data": {
      "application/vnd.jupyter.widget-view+json": {
       "model_id": "e405da20754b4b8aa0698c7ae7b4c0d4",
       "version_major": 2,
       "version_minor": 0
      },
      "text/plain": [
       "HBox(children=(FloatProgress(value=0.0, description='Itterations', max=4.0, style=ProgressStyle(description_wi…"
      ]
     },
     "metadata": {},
     "output_type": "display_data"
    },
    {
     "name": "stdout",
     "output_type": "stream",
     "text": [
      "\n"
     ]
    },
    {
     "data": {
      "image/png": "[encoded data removed]",
      "text/plain": [
       "<Figure size 864x576 with 1 Axes>"
      ]
     },
     "metadata": {
      "needs_background": "light"
     },
     "output_type": "display_data"
    },
    {
     "name": "stdout",
     "output_type": "stream",
     "text": [
      "glue\n",
      "columns Index(['\\tCoLA', '\\tSST-2', '\\tMRPC-a', 'MRPC-b', '\\tSTS-B-a', 'STS-B-b',\n",
      "       '\\tQQP-a', 'QQP-b', '\\tMNLI-m', '\\tMNLI-mm', '\\tQNLI', '\\tRTE',\n",
      "       '\\tWNLI', '\\tAX'],\n",
      "      dtype='object')\n"
     ]
    },
    {
     "data": {
      "application/vnd.jupyter.widget-view+json": {
       "model_id": "ac428cd08ad249ca809641b6d4a68e41",
       "version_major": 2,
       "version_minor": 0
      },
      "text/plain": [
       "HBox(children=(FloatProgress(value=0.0, description='Nbs of Experiments', max=1000.0, style=ProgressStyle(desc…"
      ]
     },
     "metadata": {},
     "output_type": "display_data"
    },
    {
     "name": "stdout",
     "output_type": "stream",
     "text": [
      "\n",
      "columns Index(['Model', '\\tCoLA', '\\tSST-2', '\\tMRPC-a', 'MRPC-b', '\\tSTS-B-a',\n",
      "       'STS-B-b', '\\tQQP-a', 'QQP-b', '\\tMNLI-m', '\\tMNLI-mm', '\\tQNLI',\n",
      "       '\\tRTE', '\\tWNLI', '\\tAX'],\n",
      "      dtype='object')\n"
     ]
    },
    {
     "data": {
      "application/vnd.jupyter.widget-view+json": {
       "model_id": "1b3027b09551478fb678e37ca40a9e14",
       "version_major": 2,
       "version_minor": 0
      },
      "text/plain": [
       "HBox(children=(FloatProgress(value=0.0, description='Itterations', max=14.0, style=ProgressStyle(description_w…"
      ]
     },
     "metadata": {},
     "output_type": "display_data"
    },
    {
     "name": "stdout",
     "output_type": "stream",
     "text": [
      "\n"
     ]
    },
    {
     "data": {
      "application/vnd.jupyter.widget-view+json": {
       "model_id": "88c5c31abab14c76aaf618b88aeba1ae",
       "version_major": 2,
       "version_minor": 0
      },
      "text/plain": [
       "HBox(children=(FloatProgress(value=0.0, description='Itterations', max=14.0, style=ProgressStyle(description_w…"
      ]
     },
     "metadata": {},
     "output_type": "display_data"
    },
    {
     "name": "stdout",
     "output_type": "stream",
     "text": [
      "\n"
     ]
    },
    {
     "data": {
      "image/png": "[encoded data removed]",
      "text/plain": [
       "<Figure size 864x576 with 1 Axes>"
      ]
     },
     "metadata": {
      "needs_background": "light"
     },
     "output_type": "display_data"
    },
    {
     "name": "stdout",
     "output_type": "stream",
     "text": [
      "superglue\n",
      "columns Index(['\\tBoolQ', '\\tCB-a', 'CB-b', '\\tCOPA', '\\tMultiRC-a', 'MultiRC-b',\n",
      "       '\\tReCoRD-a', 'ReCoRD-b', '\\tRTE', '\\tWiC', '\\tWSC', '\\tAX-b',\n",
      "       '\\tAX-g-b ', 'AX-g-a'],\n",
      "      dtype='object')\n"
     ]
    },
    {
     "data": {
      "application/vnd.jupyter.widget-view+json": {
       "model_id": "83cc6617539f4b9dbdda7ea704ef162e",
       "version_major": 2,
       "version_minor": 0
      },
      "text/plain": [
       "HBox(children=(FloatProgress(value=0.0, description='Nbs of Experiments', max=1000.0, style=ProgressStyle(desc…"
      ]
     },
     "metadata": {},
     "output_type": "display_data"
    },
    {
     "name": "stdout",
     "output_type": "stream",
     "text": [
      "\n",
      "columns Index(['Model', '\\tBoolQ', '\\tCB-a', 'CB-b', '\\tCOPA', '\\tMultiRC-a',\n",
      "       'MultiRC-b', '\\tReCoRD-a', 'ReCoRD-b', '\\tRTE', '\\tWiC', '\\tWSC',\n",
      "       '\\tAX-b', '\\tAX-g-b ', 'AX-g-a'],\n",
      "      dtype='object')\n"
     ]
    },
    {
     "data": {
      "application/vnd.jupyter.widget-view+json": {
       "model_id": "4c77d340e0f743aa8411d5d37fad3b5e",
       "version_major": 2,
       "version_minor": 0
      },
      "text/plain": [
       "HBox(children=(FloatProgress(value=0.0, description='Itterations', max=14.0, style=ProgressStyle(description_w…"
      ]
     },
     "metadata": {},
     "output_type": "display_data"
    },
    {
     "name": "stdout",
     "output_type": "stream",
     "text": [
      "\n"
     ]
    },
    {
     "data": {
      "application/vnd.jupyter.widget-view+json": {
       "model_id": "93884731605047ecb245fce0a9165699",
       "version_major": 2,
       "version_minor": 0
      },
      "text/plain": [
       "HBox(children=(FloatProgress(value=0.0, description='Itterations', max=14.0, style=ProgressStyle(description_w…"
      ]
     },
     "metadata": {},
     "output_type": "display_data"
    },
    {
     "name": "stdout",
     "output_type": "stream",
     "text": [
      "\n"
     ]
    },
    {
     "data": {
      "image/png": "[encoded data removed]",
      "text/plain": [
       "<Figure size 864x576 with 1 Axes>"
      ]
     },
     "metadata": {
      "needs_background": "light"
     },
     "output_type": "display_data"
    }
   ],
   "source": [
    "if GENERATE_DATA_ROBUTNESS_METRIC:    \n",
    "    seed = 40\n",
    "    number_of_samples = 1000\n",
    "    for ds in DATASETS:\n",
    "        print(ds)\n",
    "        final_dic,len_norm = generate_metric_experiments_benchmark(number_of_samples,ds,seed=42)\n",
    "        json_results = compute_results_experiments_benchmark(final_dic,ds,len_norm)\n",
    "        with open('result_benchmark_metric_{}_{}.json'.format(ds,number_of_samples),'w') as file:\n",
    "            json.dump(json_results,file)\n",
    "\n",
    "        plt.figure(figsize=(12,8))\n",
    "        df_to_plot = pd.DataFrame(json_results)\n",
    "        sns.lineplot(x=\"criterion\", y=\"correlation\", hue=\"method\",data=df_to_plot)\n",
    "        plt.title('{} {}'.format(ds,number_of_samples))\n",
    "        plt.show()\n",
    "\n"
   ]
  },
  {
   "cell_type": "code",
   "execution_count": 237,
   "metadata": {},
   "outputs": [
    {
     "name": "stdout",
     "output_type": "stream",
     "text": [
      "xtrem\n"
     ]
    },
    {
     "data": {
      "image/png": "[encoded data removed]",
      "text/plain": [
       "<Figure size 432x432 with 1 Axes>"
      ]
     },
     "metadata": {
      "needs_background": "light"
     },
     "output_type": "display_data"
    }
   ],
   "source": [
    "considered_ds = DATASETS[0]\n",
    "print(considered_ds)\n",
    "assert considered_ds in DATASETS\n",
    "number_of_samples = 1000   \n",
    "with open('result_benchmark_metric_{}_{}.json'.format(considered_ds,number_of_samples),'r') as file:\n",
    "        json_results = json.load(file)\n",
    "#print(json_results)\n",
    "df_to_plot = pd.DataFrame(json_results)\n",
    "sns.set_palette(\"Set2\")\n",
    "fig,ax = plt.subplots(figsize=(6,6))\n",
    "sns.lineplot(x=\"criterion\", y=\"correlation\", hue=\"method\",style=\"method\",data=df_to_plot,linewidth = 5,ci=100)\n",
    "plt.yticks(fontsize=20) #hue=\"losses\",\n",
    "plt.xticks(fontsize=20) #hue=\"losses\",\n",
    "    #plt.title('{}'.format(title),fontsize=30)\n",
    "plt.ylabel('$\\\\tau$',fontsize=30)\n",
    "plt.xlabel('# Tasks (%)',fontsize=25)\n",
    "plt.tight_layout()\n",
    "L=plt.legend(fontsize=23)\n",
    "for line in L.get_lines():\n",
    "    line.set_linewidth(5.0)\n",
    "L.get_texts()[0].set_text('Aggreg.')\n",
    "L.get_texts()[1].set_text('$\\\\sigma^{mean}$')\n",
    "L.get_texts()[2].set_text('$\\\\sigma^{*}$')\n",
    "\n",
    "N = 6\n",
    "ax.set_yticks(np.round(np.linspace(0.76, 1, N), 2))\n",
    "\n",
    "N = 5\n",
    "ax.set_xticks(np.round(np.linspace(0.25 if 'xtrem' in considered_ds else 0, 1, N), 2))\n",
    "plt.savefig('one_level_ranking_{}.pdf'.format(considered_ds),format='pdf')\n",
    "plt.show()\n"
   ]
  },
  {
   "cell_type": "markdown",
   "metadata": {},
   "source": [
    "## Robutness experiement when adding systems"
   ]
  },
  {
   "cell_type": "code",
   "execution_count": null,
   "metadata": {},
   "outputs": [],
   "source": [
    "def generate_system_experiment_benchmark(number_of_samples,path= 'final_df',ds='xtrem',seed=42):\n",
    "    random.seed(seed)\n",
    "    l_final_dic = []\n",
    "    df =  pd.read_csv('data/{}.data'.format(ds),index_col=False)\n",
    "    data_df =  pd.read_csv('data/{}.data'.format(ds),index_col=False,usecols = [i for i in range(df.shape[1]) if i!=1])\n",
    "    data_df =data_df.set_index(['Model'])\n",
    "    number_of_systems = len(copy.deepcopy(list(set(data_df.reset_index().Model.values)))) +1\n",
    "    for number_of_systems in tqdm(range(1,number_of_systems + 1),'Number of Systems'): # start at 2\n",
    "        for _ in tqdm(range(number_of_samples),'Experiments'):\n",
    "            df =  pd.read_csv('data/{}.data'.format(ds),index_col=False)\n",
    "            data_df =  pd.read_csv('data/{}.data'.format(ds),index_col=False,usecols = [i for i in range(df.shape[1]) if i!=1])\n",
    "            data_df =data_df.set_index(['Model'])\n",
    "            systems = copy.deepcopy(list(set(data_df.reset_index().Model.values)))\n",
    "            random.shuffle(systems)\n",
    "            df = data_df[data_df.index.isin(systems, level=0)]\n",
    "            df = df.reindex(systems)\n",
    "            ref_ranks = {\n",
    "             'mean':mean_aggregation(df)[0][:number_of_systems],\n",
    "            'direct': ranking_aggregation(df)[:number_of_systems],\n",
    "                    }\n",
    "            selected_systems = systems[:number_of_systems]\n",
    "            running_df = df[df.index.isin(selected_systems, level=0)]\n",
    "            running_df_new = running_df.reindex(selected_systems)\n",
    "\n",
    "\n",
    "            runing_ranks = {\n",
    "             'mean':mean_aggregation(running_df)[0],\n",
    "            'direct': ranking_aggregation(running_df)\n",
    "                    }\n",
    "\n",
    "            final_dic = {}\n",
    "\n",
    "            for r_key in ref_ranks.keys():\n",
    "                    final_dic['{}'.format(r_key)] = stats.kendalltau(ref_ranks[r_key], runing_ranks[r_key])[0]\n",
    "            l_final_dic.append(final_dic)  \n",
    "    return l_final_dic"
   ]
  },
  {
   "cell_type": "code",
   "execution_count": null,
   "metadata": {},
   "outputs": [],
   "source": [
    "GENERATE_DATA_ROBUTNESS_SYSTEM  = False"
   ]
  },
  {
   "cell_type": "code",
   "execution_count": null,
   "metadata": {
    "scrolled": true
   },
   "outputs": [],
   "source": [
    "if GENERATE_DATA_ROBUTNESS_SYSTEM:\n",
    "    for ds in DATASETS: \n",
    "        number_of_samples = 15\n",
    "        l_final_dic = generate_system_experiment_benchmark(number_of_samples,path= 'final_df',ds=ds,seed=42) \n",
    "        df_dic = {\n",
    "                'type':[],\n",
    "                'correlation':[],\n",
    "                'nbs':[]\n",
    "            }\n",
    "        for index,c_dic in enumerate(l_final_dic):\n",
    "            index_runing=index // number_of_samples \n",
    "            for k,v in c_dic.items():\n",
    "                    df_dic['nbs'].append(index_runing)\n",
    "                    df_dic['type'].append(k)\n",
    "                    df_dic['correlation'].append(v)\n",
    "        with open('final_dic_ajout_de_systems_{}_{}_benchmarks.json'.format(ds,number_of_samples),'w') as file:\n",
    "            json.dump(l_final_dic,file)\n",
    "        plt.figure(figsize=(12,8))\n",
    "        df_to_plot = pd.DataFrame(df_dic)\n",
    "        sns.lineplot(x=\"nbs\", y=\"correlation\", hue=\"type\",data=df_to_plot)\n",
    "        plt.title('{}'.format(ds))\n",
    "        plt.show()"
   ]
  },
  {
   "cell_type": "code",
   "execution_count": null,
   "metadata": {
    "scrolled": true
   },
   "outputs": [],
   "source": [
    "number_of_samples = 15\n",
    "for ds in DATASETS: \n",
    "        df_dic = {\n",
    "                'type':[],\n",
    "                'correlation':[],\n",
    "                'nbs':[]\n",
    "            }\n",
    "        with open('final_dic_ajout_de_systems_{}_{}_benchmarks.json'.format(ds,number_of_samples),'r') as file:\n",
    "            l_final_dic = json.load(file)\n",
    "        for index,c_dic in enumerate(l_final_dic):\n",
    "            index_runing=index // number_of_samples \n",
    "            for k,v in c_dic.items():\n",
    "                    df_dic['nbs'].append(index_runing)\n",
    "                    df_dic['type'].append(k)\n",
    "                    df_dic['correlation'].append(v)\n",
    "        plt.figure(figsize=(12,8))\n",
    "        df_to_plot = pd.DataFrame(df_dic)\n",
    "        sns.lineplot(x=\"nbs\", y=\"correlation\", hue=\"type\",data=df_to_plot)\n",
    "        plt.title('{}'.format(ds))\n",
    "        plt.show()"
   ]
  },
  {
   "cell_type": "markdown",
   "metadata": {},
   "source": [
    "## Quantitative analysis via agrements/kendall correlation/kendall distance"
   ]
  },
  {
   "cell_type": "code",
   "execution_count": 42,
   "metadata": {},
   "outputs": [],
   "source": [
    "def analyse_agreements_benchmark(data_path, type_of_agreement=1):\n",
    "    final_to_plot = {\n",
    "       'ds':[],\n",
    "        'is_1':[], #is equal\n",
    "        'is_3':[],\n",
    "        'is_5':[],\n",
    "        'is_10':[],\n",
    "        '1':[],\n",
    "        '3':[],\n",
    "        '5':[],\n",
    "        '10':[],\n",
    "        'k_1':[],\n",
    "        'k_3':[],\n",
    "        'k_5':[],\n",
    "        'k_10':[],\n",
    "        'tau':[],\n",
    "        'all':[],\n",
    "        'method':[],\n",
    "        }\n",
    "    method = {'0':1}\n",
    "    for ds in tqdm(DATASETS,'Datasets'):\n",
    "        assert type_of_agreement in [1,-1]\n",
    "        df =  pd.read_csv('data/{}.data'.format(ds),index_col=False)\n",
    "        considered_df =  pd.read_csv('data/{}.data'.format(ds),index_col=False,usecols = [i for i in range(df.shape[1]) if i!=1])\n",
    "       \n",
    "        mean_ranking,means = mean_aggregation(considered_df)\n",
    "        mean_reindex = reverse_ranking(mean_ranking)[::-1]\n",
    "        df_new = df.reindex(mean_reindex,copy = False)\n",
    "        df_new.reset_index(inplace=True)\n",
    "        del df_new['index']\n",
    "        # create rankings\n",
    "        mean_ranking = mean_aggregation(df_new)[0]\n",
    "        mean_aggreg = reverse_ranking(mean_ranking)[::-1]\n",
    "        ranking_ranking  = ranking_aggregation(df_new)\n",
    "        #ranking_ranking = [ranking_ranking.tolist().index(i) for i in range(len(ranking_ranking))]\n",
    "        \n",
    "        direct_aggreg = reverse_ranking(ranking_ranking)[::-1]\n",
    "        #direct_aggreg = [direct_aggreg.tolist().index(i) for i in range(len(direct_aggreg))]\n",
    "        \n",
    "        comparizons = [(mean_aggreg,direct_aggreg)]\n",
    "        print('Ds',ds)\n",
    "        print('mean_ranking',mean_ranking)\n",
    "        print('mean_aggreg',mean_aggreg)\n",
    "        \n",
    "        print('borda_ranking',ranking_ranking)\n",
    "        print('borda_aggreg',direct_aggreg)\n",
    "        for index, (a,b) in enumerate(comparizons):\n",
    "            final_to_plot['ds'].append(ds)\n",
    "            final_to_plot['method'].append(method[str(index)])\n",
    "            if type_of_agreement == 1: #best\n",
    "                final_to_plot['k_1'].append(stats.kendalltau(a[-1:], b[-1:])[0])\n",
    "                final_to_plot['k_3'].append(stats.kendalltau(a[-3:], b[-3:])[0])\n",
    "                final_to_plot['k_5'].append(stats.kendalltau(a[-5:], b[-5:])[0])\n",
    "                final_to_plot['k_10'].append(stats.kendalltau(a[-10:], b[-10:])[0])\n",
    "                final_to_plot['all'].append(stats.kendalltau(a, b)[0])\n",
    "                final_to_plot['1'].append(interection_length(a[-1:], b[-1:]))\n",
    "                final_to_plot['3'].append(interection_length(a[-3:], b[-3:]))\n",
    "                final_to_plot['5'].append(interection_length(a[-5:], b[-5:]))\n",
    "                final_to_plot['10'].append(interection_length(a[-10:], b[-10:]))\n",
    "                final_to_plot['is_1'].append(a[-1: ] == b[-1:])\n",
    "                final_to_plot['is_3'].append(a[-3:] == b[-3:])\n",
    "                final_to_plot['is_5'].append(a[-5:] == b[-5:])\n",
    "                final_to_plot['tau'].append(stats.kendalltau(a, b)[0])\n",
    "                final_to_plot['is_10'].append(a[-10:] == b[-10:])\n",
    "\n",
    "            else : #worst\n",
    "                final_to_plot['k_1'].append(stats.kendalltau(a[:1], b[:1])[0])\n",
    "                final_to_plot['k_3'].append(stats.kendalltau(a[:3], b[:3])[0])\n",
    "                final_to_plot['k_5'].append(stats.kendalltau(a[:5], b[:5])[0])\n",
    "                final_to_plot['k_10'].append(stats.kendalltau(a[:10], b[:10])[0])\n",
    "                final_to_plot['tau'].append(stats.kendalltau(a, b)[0])\n",
    "                final_to_plot['all'].append(stats.kendalltau(a, b)[0])\n",
    "                final_to_plot['1'].append(interection_length(a[:1], b[:1]))\n",
    "                final_to_plot['3'].append(interection_length(a[:3], b[:3]))\n",
    "                final_to_plot['5'].append(interection_length(a[:5], b[:5]))\n",
    "                final_to_plot['10'].append(interection_length(a[:10], b[:10]))  \n",
    "                final_to_plot['is_1'].append(a[0] == b[0])\n",
    "                final_to_plot['is_3'].append(a[:3] == b[:3])\n",
    "                final_to_plot['is_5'].append(a[:5] == b[:5])\n",
    "                final_to_plot['is_10'].append(a[:10] == b[:10])\n",
    "    return final_to_plot"
   ]
  },
  {
   "cell_type": "code",
   "execution_count": 43,
   "metadata": {},
   "outputs": [
    {
     "data": {
      "application/vnd.jupyter.widget-view+json": {
       "model_id": "b5fae2890acc43a9b051c3de0c27f729",
       "version_major": 2,
       "version_minor": 0
      },
      "text/plain": [
       "HBox(children=(FloatProgress(value=0.0, description='Datasets', max=3.0, style=ProgressStyle(description_width…"
      ]
     },
     "metadata": {},
     "output_type": "display_data"
    },
    {
     "name": "stdout",
     "output_type": "stream",
     "text": [
      "Ds xtrem\n",
      "mean_ranking [14 13 12 11 10  9  8  7  6  5  4  3  2  1  0]\n",
      "mean_aggreg [ 0  1  2  3  4  5  6  7  8  9 10 11 12 13 14]\n",
      "borda_ranking [14 13  6 12 11 10  8  7  9  4  5  3  2  1  0]\n",
      "borda_aggreg [ 0  1  3  4  5  8  6  7  2 10  9 11 12 13 14]\n",
      "Ds glue\n",
      "mean_ranking [104 103 102 101 100  99  98  97  96  94  95  93  92  91  90  89  88  87\n",
      "  86  85  84  83  82  80  81  79  77  76  78  75  74  73  72  71  70  69\n",
      "  67  68  65  66  63  64  62  60  61  59  57  58  55  54  56  53  52  51\n",
      "  50  49  48  47  46  45  44  43  42  41  40  39  38  37  36  35  34  33\n",
      "  32  31  30  29  28  27  23  26  25  24  21  22  20  19  18  17  16  15\n",
      "  14  13  12  11  10   9   8   7   6   5   4   3   2   1   0]\n",
      "mean_aggreg [  0   1   2   3   4   5   6   7   8  10   9  11  12  13  14  15  16  17\n",
      "  18  19  20  21  22  24  23  25  28  26  27  29  30  31  32  33  34  35\n",
      "  37  36  39  38  41  40  42  44  43  45  47  46  50  48  49  51  52  53\n",
      "  54  55  56  57  58  59  60  61  62  63  64  65  66  67  68  69  70  71\n",
      "  72  73  74  75  76  77  79  80  81  78  83  82  84  85  86  87  88  89\n",
      "  90  91  92  93  94  95  96  97  98  99 100 101 102 103 104]\n",
      "borda_ranking [104 103 102 101  99 100  97  96  93  95  98  94  92  90  91  88  89  87\n",
      "  86  81  85  82  84  79  83  77  74  75  72  67  70  73  69  64  66  80\n",
      "  63  78  62  68  61  76  57  53  71  50  54  65  48  49  60  51  59  56\n",
      "  58  46  47  52  45  42  43  41  44  40  38  36  35  55  33  39  34  37\n",
      "  32  31  23  24  28  30  27  22  25  26  20  29  16  15  18   9  10  17\n",
      "  13  19  14   6   4  21   7  12   8  11   3   5   2   0   1]\n",
      "borda_aggreg [  0   1   2   3   5   4  10   6   7   9  11   8  12  14  13  16  15  17\n",
      "  18  20  22  24  21  19  35  23  37  25  41  27  26  31  28  44  30  32\n",
      "  39  29  34  47  33  36  38  40  50  52  54  42  53  67  46  43  57  51\n",
      "  45  49  48  56  55  58  62  60  59  61  63  69  64  71  65  66  70  68\n",
      "  72  73  77  83  76  78  81  80  75  74  79  95  82  91  86  89  84  85\n",
      "  92  90  97  99  88  87  98  96  93 101  94 100 102 104 103]\n",
      "Ds superglue\n",
      "mean_ranking [23 22 21 20 19 18 17 16 15 14 12 13 11 10  9  8  7  6  5  4  3  2  1  0]\n",
      "mean_aggreg [ 0  1  2  3  4  5  6  7  8  9 11 10 12 13 14 15 16 17 18 19 20 21 22 23]\n",
      "borda_ranking [23 22 21 20 18 19 17 16 13 14 12 15 11 10  6  9  7  5  8  3  4  2  1  0]\n",
      "borda_aggreg [ 0  1  2  3  5  4  6  7 11  9  8 10 12 13 15 18 16 14 17 20 19 21 22 23]\n",
      "\n"
     ]
    }
   ],
   "source": [
    "final_to_plot=  analyse_agreements_benchmark(data_path = 'final_df', type_of_agreement=-1)  \n",
    "data_df = pd.DataFrame(final_to_plot)"
   ]
  },
  {
   "cell_type": "code",
   "execution_count": 44,
   "metadata": {},
   "outputs": [
    {
     "data": {
      "text/html": [
       "<div>\n",
       "<style scoped>\n",
       "    .dataframe tbody tr th:only-of-type {\n",
       "        vertical-align: middle;\n",
       "    }\n",
       "\n",
       "    .dataframe tbody tr th {\n",
       "        vertical-align: top;\n",
       "    }\n",
       "\n",
       "    .dataframe thead th {\n",
       "        text-align: right;\n",
       "    }\n",
       "</style>\n",
       "<table border=\"1\" class=\"dataframe\">\n",
       "  <thead>\n",
       "    <tr style=\"text-align: right;\">\n",
       "      <th></th>\n",
       "      <th>ds</th>\n",
       "      <th>is_1</th>\n",
       "      <th>is_3</th>\n",
       "      <th>is_5</th>\n",
       "      <th>is_10</th>\n",
       "      <th>1</th>\n",
       "      <th>3</th>\n",
       "      <th>5</th>\n",
       "      <th>10</th>\n",
       "      <th>k_1</th>\n",
       "      <th>k_3</th>\n",
       "      <th>k_5</th>\n",
       "      <th>k_10</th>\n",
       "      <th>tau</th>\n",
       "      <th>all</th>\n",
       "      <th>method</th>\n",
       "    </tr>\n",
       "  </thead>\n",
       "  <tbody>\n",
       "    <tr>\n",
       "      <th>0</th>\n",
       "      <td>xtrem</td>\n",
       "      <td>True</td>\n",
       "      <td>[True, True, False]</td>\n",
       "      <td>[True, True, False, False, False]</td>\n",
       "      <td>[True, True, False, False, False, False, True,...</td>\n",
       "      <td>1</td>\n",
       "      <td>2</td>\n",
       "      <td>4</td>\n",
       "      <td>9</td>\n",
       "      <td>NaN</td>\n",
       "      <td>1.0</td>\n",
       "      <td>1.0</td>\n",
       "      <td>0.644444</td>\n",
       "      <td>0.828571</td>\n",
       "      <td>0.828571</td>\n",
       "      <td>1</td>\n",
       "    </tr>\n",
       "    <tr>\n",
       "      <th>1</th>\n",
       "      <td>glue</td>\n",
       "      <td>True</td>\n",
       "      <td>[True, True, True]</td>\n",
       "      <td>[True, True, True, True, False]</td>\n",
       "      <td>[True, True, True, True, False, False, False, ...</td>\n",
       "      <td>1</td>\n",
       "      <td>3</td>\n",
       "      <td>4</td>\n",
       "      <td>9</td>\n",
       "      <td>NaN</td>\n",
       "      <td>1.0</td>\n",
       "      <td>1.0</td>\n",
       "      <td>0.822222</td>\n",
       "      <td>0.916850</td>\n",
       "      <td>0.916850</td>\n",
       "      <td>1</td>\n",
       "    </tr>\n",
       "    <tr>\n",
       "      <th>2</th>\n",
       "      <td>superglue</td>\n",
       "      <td>True</td>\n",
       "      <td>[True, True, True]</td>\n",
       "      <td>[True, True, True, True, False]</td>\n",
       "      <td>[True, True, True, True, False, False, True, T...</td>\n",
       "      <td>1</td>\n",
       "      <td>3</td>\n",
       "      <td>4</td>\n",
       "      <td>9</td>\n",
       "      <td>NaN</td>\n",
       "      <td>1.0</td>\n",
       "      <td>1.0</td>\n",
       "      <td>0.911111</td>\n",
       "      <td>0.913043</td>\n",
       "      <td>0.913043</td>\n",
       "      <td>1</td>\n",
       "    </tr>\n",
       "  </tbody>\n",
       "</table>\n",
       "</div>"
      ],
      "text/plain": [
       "          ds  is_1                 is_3                               is_5  \\\n",
       "0      xtrem  True  [True, True, False]  [True, True, False, False, False]   \n",
       "1       glue  True   [True, True, True]    [True, True, True, True, False]   \n",
       "2  superglue  True   [True, True, True]    [True, True, True, True, False]   \n",
       "\n",
       "                                               is_10  1  3  5  10  k_1  k_3  \\\n",
       "0  [True, True, False, False, False, False, True,...  1  2  4   9  NaN  1.0   \n",
       "1  [True, True, True, True, False, False, False, ...  1  3  4   9  NaN  1.0   \n",
       "2  [True, True, True, True, False, False, True, T...  1  3  4   9  NaN  1.0   \n",
       "\n",
       "   k_5      k_10       tau       all  method  \n",
       "0  1.0  0.644444  0.828571  0.828571       1  \n",
       "1  1.0  0.822222  0.916850  0.916850       1  \n",
       "2  1.0  0.911111  0.913043  0.913043       1  "
      ]
     },
     "execution_count": 44,
     "metadata": {},
     "output_type": "execute_result"
    }
   ],
   "source": [
    "data_df"
   ]
  },
  {
   "cell_type": "code",
   "execution_count": 18,
   "metadata": {},
   "outputs": [
    {
     "data": {
      "application/vnd.jupyter.widget-view+json": {
       "model_id": "4ebbb53f4ca9441582fb74aae51ae980",
       "version_major": 2,
       "version_minor": 0
      },
      "text/plain": [
       "HBox(children=(FloatProgress(value=0.0, description='Datasets', max=3.0, style=ProgressStyle(description_width…"
      ]
     },
     "metadata": {},
     "output_type": "display_data"
    },
    {
     "name": "stdout",
     "output_type": "stream",
     "text": [
      "Ds xtrem\n",
      "mean_ranking [14 13 12 11 10  9  8  7  6  5  4  3  2  1  0]\n",
      "mean_aggreg [ 0  1  2  3  4  5  6  7  8  9 10 11 12 13 14]\n",
      "borda_ranking [14 13  6 12 11 10  8  7  9  4  5  3  2  1  0]\n",
      "borda_aggreg [ 0  1  3  4  5  8  6  7  2 10  9 11 12 13 14]\n",
      "Ds glue\n",
      "mean_ranking [104 103 102 101 100  99  98  97  96  94  95  93  92  91  90  89  88  87\n",
      "  86  85  84  83  82  80  81  79  77  76  78  75  74  73  72  71  70  69\n",
      "  67  68  65  66  63  64  62  60  61  59  57  58  55  54  56  53  52  51\n",
      "  50  49  48  47  46  45  44  43  42  41  40  39  38  37  36  35  34  33\n",
      "  32  31  30  29  28  27  23  26  25  24  21  22  20  19  18  17  16  15\n",
      "  14  13  12  11  10   9   8   7   6   5   4   3   2   1   0]\n",
      "mean_aggreg [  0   1   2   3   4   5   6   7   8  10   9  11  12  13  14  15  16  17\n",
      "  18  19  20  21  22  24  23  25  28  26  27  29  30  31  32  33  34  35\n",
      "  37  36  39  38  41  40  42  44  43  45  47  46  50  48  49  51  52  53\n",
      "  54  55  56  57  58  59  60  61  62  63  64  65  66  67  68  69  70  71\n",
      "  72  73  74  75  76  77  79  80  81  78  83  82  84  85  86  87  88  89\n",
      "  90  91  92  93  94  95  96  97  98  99 100 101 102 103 104]\n",
      "borda_ranking [104 103 102 101  99 100  97  96  93  95  98  94  92  90  91  88  89  87\n",
      "  86  81  85  82  84  79  83  77  74  75  72  67  70  73  69  64  66  80\n",
      "  63  78  62  68  61  76  57  53  71  50  54  65  48  49  60  51  59  56\n",
      "  58  46  47  52  45  42  43  41  44  40  38  36  35  55  33  39  34  37\n",
      "  32  31  23  24  28  30  27  22  25  26  20  29  16  15  18   9  10  17\n",
      "  13  19  14   6   4  21   7  12   8  11   3   5   2   0   1]\n",
      "borda_aggreg [  0   1   2   3   5   4  10   6   7   9  11   8  12  14  13  16  15  17\n",
      "  18  20  22  24  21  19  35  23  37  25  41  27  26  31  28  44  30  32\n",
      "  39  29  34  47  33  36  38  40  50  52  54  42  53  67  46  43  57  51\n",
      "  45  49  48  56  55  58  62  60  59  61  63  69  64  71  65  66  70  68\n",
      "  72  73  77  83  76  78  81  80  75  74  79  95  82  91  86  89  84  85\n",
      "  92  90  97  99  88  87  98  96  93 101  94 100 102 104 103]\n",
      "Ds superglue\n",
      "mean_ranking [23 22 21 20 19 18 17 16 15 14 12 13 11 10  9  8  7  6  5  4  3  2  1  0]\n",
      "mean_aggreg [ 0  1  2  3  4  5  6  7  8  9 11 10 12 13 14 15 16 17 18 19 20 21 22 23]\n",
      "borda_ranking [23 22 21 20 18 19 17 16 13 14 12 15 11 10  6  9  7  5  8  3  4  2  1  0]\n",
      "borda_aggreg [ 0  1  2  3  5  4  6  7 11  9  8 10 12 13 15 18 16 14 17 20 19 21 22 23]\n",
      "\n"
     ]
    },
    {
     "name": "stderr",
     "output_type": "stream",
     "text": [
      "/Users/Ebenge/anaconda3/lib/python3.8/site-packages/pandas/util/_decorators.py:311: ParserWarning: Length of header or names does not match length of data. This leads to a loss of data with index_col=False.\n",
      "  return func(*args, **kwargs)\n"
     ]
    }
   ],
   "source": [
    "final_to_plot=  analyse_agreements_benchmark(data_path = 'final_df', type_of_agreement=1)  \n",
    "data_df =pd.DataFrame(final_to_plot)"
   ]
  },
  {
   "cell_type": "code",
   "execution_count": 19,
   "metadata": {},
   "outputs": [
    {
     "data": {
      "text/html": [
       "<div>\n",
       "<style scoped>\n",
       "    .dataframe tbody tr th:only-of-type {\n",
       "        vertical-align: middle;\n",
       "    }\n",
       "\n",
       "    .dataframe tbody tr th {\n",
       "        vertical-align: top;\n",
       "    }\n",
       "\n",
       "    .dataframe thead th {\n",
       "        text-align: right;\n",
       "    }\n",
       "</style>\n",
       "<table border=\"1\" class=\"dataframe\">\n",
       "  <thead>\n",
       "    <tr style=\"text-align: right;\">\n",
       "      <th></th>\n",
       "      <th>ds</th>\n",
       "      <th>is_1</th>\n",
       "      <th>is_3</th>\n",
       "      <th>is_5</th>\n",
       "      <th>is_10</th>\n",
       "      <th>1</th>\n",
       "      <th>3</th>\n",
       "      <th>5</th>\n",
       "      <th>10</th>\n",
       "      <th>k_1</th>\n",
       "      <th>k_3</th>\n",
       "      <th>k_5</th>\n",
       "      <th>k_10</th>\n",
       "      <th>tau</th>\n",
       "      <th>all</th>\n",
       "      <th>method</th>\n",
       "    </tr>\n",
       "  </thead>\n",
       "  <tbody>\n",
       "    <tr>\n",
       "      <th>0</th>\n",
       "      <td>xtrem</td>\n",
       "      <td>[True]</td>\n",
       "      <td>[True, True, True]</td>\n",
       "      <td>[False, True, True, True, True]</td>\n",
       "      <td>[False, True, True, False, False, False, True,...</td>\n",
       "      <td>1</td>\n",
       "      <td>3</td>\n",
       "      <td>4</td>\n",
       "      <td>9</td>\n",
       "      <td>NaN</td>\n",
       "      <td>1.000000</td>\n",
       "      <td>1.0</td>\n",
       "      <td>0.733333</td>\n",
       "      <td>0.828571</td>\n",
       "      <td>0.828571</td>\n",
       "      <td>1</td>\n",
       "    </tr>\n",
       "    <tr>\n",
       "      <th>1</th>\n",
       "      <td>glue</td>\n",
       "      <td>[False]</td>\n",
       "      <td>[True, False, False]</td>\n",
       "      <td>[False, False, True, False, False]</td>\n",
       "      <td>[False, False, False, False, False, False, Fal...</td>\n",
       "      <td>0</td>\n",
       "      <td>3</td>\n",
       "      <td>4</td>\n",
       "      <td>7</td>\n",
       "      <td>NaN</td>\n",
       "      <td>0.333333</td>\n",
       "      <td>0.8</td>\n",
       "      <td>0.644444</td>\n",
       "      <td>0.916850</td>\n",
       "      <td>0.916850</td>\n",
       "      <td>1</td>\n",
       "    </tr>\n",
       "    <tr>\n",
       "      <th>2</th>\n",
       "      <td>superglue</td>\n",
       "      <td>[True]</td>\n",
       "      <td>[True, True, True]</td>\n",
       "      <td>[False, False, True, True, True]</td>\n",
       "      <td>[False, False, True, False, False, False, Fals...</td>\n",
       "      <td>1</td>\n",
       "      <td>3</td>\n",
       "      <td>5</td>\n",
       "      <td>10</td>\n",
       "      <td>NaN</td>\n",
       "      <td>1.000000</td>\n",
       "      <td>0.8</td>\n",
       "      <td>0.733333</td>\n",
       "      <td>0.913043</td>\n",
       "      <td>0.913043</td>\n",
       "      <td>1</td>\n",
       "    </tr>\n",
       "  </tbody>\n",
       "</table>\n",
       "</div>"
      ],
      "text/plain": [
       "          ds     is_1                  is_3  \\\n",
       "0      xtrem   [True]    [True, True, True]   \n",
       "1       glue  [False]  [True, False, False]   \n",
       "2  superglue   [True]    [True, True, True]   \n",
       "\n",
       "                                 is_5  \\\n",
       "0     [False, True, True, True, True]   \n",
       "1  [False, False, True, False, False]   \n",
       "2    [False, False, True, True, True]   \n",
       "\n",
       "                                               is_10  1  3  5  10  k_1  \\\n",
       "0  [False, True, True, False, False, False, True,...  1  3  4   9  NaN   \n",
       "1  [False, False, False, False, False, False, Fal...  0  3  4   7  NaN   \n",
       "2  [False, False, True, False, False, False, Fals...  1  3  5  10  NaN   \n",
       "\n",
       "        k_3  k_5      k_10       tau       all  method  \n",
       "0  1.000000  1.0  0.733333  0.828571  0.828571       1  \n",
       "1  0.333333  0.8  0.644444  0.916850  0.916850       1  \n",
       "2  1.000000  0.8  0.733333  0.913043  0.913043       1  "
      ]
     },
     "execution_count": 19,
     "metadata": {},
     "output_type": "execute_result"
    }
   ],
   "source": [
    "data_df"
   ]
  },
  {
   "cell_type": "markdown",
   "metadata": {},
   "source": [
    "#### Display with barplot"
   ]
  },
  {
   "cell_type": "code",
   "execution_count": 243,
   "metadata": {},
   "outputs": [
    {
     "data": {
      "application/vnd.jupyter.widget-view+json": {
       "model_id": "626f1198f97c4c31ad3a5cdac31f7daf",
       "version_major": 2,
       "version_minor": 0
      },
      "text/plain": [
       "HBox(children=(FloatProgress(value=0.0, description='Datasets', max=3.0, style=ProgressStyle(description_width…"
      ]
     },
     "metadata": {},
     "output_type": "display_data"
    },
    {
     "name": "stdout",
     "output_type": "stream",
     "text": [
      "Ds xtrem\n",
      "mean_ranking [14 13 12 11 10  9  8  7  6  5  4  3  2  1  0]\n",
      "mean_aggreg [ 0  1  2  3  4  5  6  7  8  9 10 11 12 13 14]\n",
      "borda_ranking [14 13  6 12 11 10  8  7  9  4  5  3  2  1  0]\n",
      "borda_aggreg [ 0  1  3  4  5  8  6  7  2 10  9 11 12 13 14]\n",
      "Ds glue\n",
      "mean_ranking [104 103 102 101 100  99  98  97  96  94  95  93  92  91  90  89  88  87\n",
      "  86  85  84  83  82  80  81  79  77  76  78  75  74  73  72  71  70  69\n",
      "  67  68  65  66  63  64  62  60  61  59  57  58  55  54  56  53  52  51\n",
      "  50  49  48  47  46  45  44  43  42  41  40  39  38  37  36  35  34  33\n",
      "  32  31  30  29  28  27  23  26  25  24  21  22  20  19  18  17  16  15\n",
      "  14  13  12  11  10   9   8   7   6   5   4   3   2   1   0]\n",
      "mean_aggreg [  0   1   2   3   4   5   6   7   8  10   9  11  12  13  14  15  16  17\n",
      "  18  19  20  21  22  24  23  25  28  26  27  29  30  31  32  33  34  35\n",
      "  37  36  39  38  41  40  42  44  43  45  47  46  50  48  49  51  52  53\n",
      "  54  55  56  57  58  59  60  61  62  63  64  65  66  67  68  69  70  71\n",
      "  72  73  74  75  76  77  79  80  81  78  83  82  84  85  86  87  88  89\n",
      "  90  91  92  93  94  95  96  97  98  99 100 101 102 103 104]\n",
      "borda_ranking [104 103 102 101  99 100  97  96  93  95  98  94  92  90  91  88  89  87\n",
      "  86  81  85  82  84  79  83  77  74  75  72  67  70  73  69  64  66  80\n",
      "  63  78  62  68  61  76  57  53  71  50  54  65  48  49  60  51  59  56\n",
      "  58  46  47  52  45  42  43  41  44  40  38  36  35  55  33  39  34  37\n",
      "  32  31  23  24  28  30  27  22  25  26  20  29  16  15  18   9  10  17\n",
      "  13  19  14   6   4  21   7  12   8  11   3   5   2   0   1]\n",
      "borda_aggreg [  0   1   2   3   5   4  10   6   7   9  11   8  12  14  13  16  15  17\n",
      "  18  20  22  24  21  19  35  23  37  25  41  27  26  31  28  44  30  32\n",
      "  39  29  34  47  33  36  38  40  50  52  54  42  53  67  46  43  57  51\n",
      "  45  49  48  56  55  58  62  60  59  61  63  69  64  71  65  66  70  68\n",
      "  72  73  77  83  76  78  81  80  75  74  79  95  82  91  86  89  84  85\n",
      "  92  90  97  99  88  87  98  96  93 101  94 100 102 104 103]\n",
      "Ds superglue\n",
      "mean_ranking [23 22 21 20 19 18 17 16 15 14 12 13 11 10  9  8  7  6  5  4  3  2  1  0]\n",
      "mean_aggreg [ 0  1  2  3  4  5  6  7  8  9 11 10 12 13 14 15 16 17 18 19 20 21 22 23]\n",
      "borda_ranking [23 22 21 20 18 19 17 16 13 14 12 15 11 10  6  9  7  5  8  3  4  2  1  0]\n",
      "borda_aggreg [ 0  1  2  3  5  4  6  7 11  9  8 10 12 13 15 18 16 14 17 20 19 21 22 23]\n",
      "\n"
     ]
    },
    {
     "name": "stderr",
     "output_type": "stream",
     "text": [
      "/Users/Ebenge/anaconda3/lib/python3.8/site-packages/pandas/util/_decorators.py:311: ParserWarning: Length of header or names does not match length of data. This leads to a loss of data with index_col=False.\n",
      "  return func(*args, **kwargs)\n"
     ]
    },
    {
     "data": {
      "text/plain": [
       "<matplotlib.axes._subplots.AxesSubplot at 0x7fa3f4db13d0>"
      ]
     },
     "execution_count": 243,
     "metadata": {},
     "output_type": "execute_result"
    },
    {
     "data": {
      "image/png": "[encoded data removed]",
      "text/plain": [
       "<Figure size 720x360 with 1 Axes>"
      ]
     },
     "metadata": {
      "needs_background": "light"
     },
     "output_type": "display_data"
    }
   ],
   "source": [
    "final_to_plot=  analyse_agreements_benchmark(data_path = 'final_df', type_of_agreement=-1)  \n",
    "data_df =pd.DataFrame(final_to_plot)\n",
    "plt.figure(figsize=(10,5))\n",
    "sns.barplot(x = 'k_1', y = 'ds', hue = 'method', data = data_df)"
   ]
  },
  {
   "cell_type": "code",
   "execution_count": 244,
   "metadata": {},
   "outputs": [
    {
     "data": {
      "text/plain": [
       "<matplotlib.axes._subplots.AxesSubplot at 0x7fa3f3ef0580>"
      ]
     },
     "execution_count": 244,
     "metadata": {},
     "output_type": "execute_result"
    },
    {
     "data": {
      "image/png": "[encoded data removed]",
      "text/plain": [
       "<Figure size 720x360 with 1 Axes>"
      ]
     },
     "metadata": {
      "needs_background": "light"
     },
     "output_type": "display_data"
    }
   ],
   "source": [
    "data_df =pd.DataFrame(final_to_plot)\n",
    "plt.figure(figsize=(10,5))\n",
    "sns.barplot(x = 'k_3', y = 'ds', hue = 'method', data = data_df)"
   ]
  },
  {
   "cell_type": "code",
   "execution_count": 245,
   "metadata": {},
   "outputs": [
    {
     "data": {
      "text/plain": [
       "<matplotlib.axes._subplots.AxesSubplot at 0x7fa3f5ed5d30>"
      ]
     },
     "execution_count": 245,
     "metadata": {},
     "output_type": "execute_result"
    },
    {
     "data": {
      "image/png": "[encoded data removed]",
      "text/plain": [
       "<Figure size 720x360 with 1 Axes>"
      ]
     },
     "metadata": {
      "needs_background": "light"
     },
     "output_type": "display_data"
    }
   ],
   "source": [
    "data_df =pd.DataFrame(final_to_plot)\n",
    "plt.figure(figsize=(10,5))\n",
    "sns.barplot(x = 'k_5', y = 'ds', hue = 'method', data = data_df)"
   ]
  },
  {
   "cell_type": "code",
   "execution_count": 246,
   "metadata": {},
   "outputs": [
    {
     "data": {
      "text/plain": [
       "<matplotlib.axes._subplots.AxesSubplot at 0x7fa3f6bd64f0>"
      ]
     },
     "execution_count": 246,
     "metadata": {},
     "output_type": "execute_result"
    },
    {
     "data": {
      "image/png": "[encoded data removed]",
      "text/plain": [
       "<Figure size 720x360 with 1 Axes>"
      ]
     },
     "metadata": {
      "needs_background": "light"
     },
     "output_type": "display_data"
    }
   ],
   "source": [
    "data_df =pd.DataFrame(final_to_plot)\n",
    "plt.figure(figsize=(10,5))\n",
    "sns.barplot(x = 'k_10', y = 'ds', hue = 'method', data = data_df)"
   ]
  },
  {
   "cell_type": "code",
   "execution_count": null,
   "metadata": {},
   "outputs": [],
   "source": [
    "data_df =pd.DataFrame(final_to_plot)\n",
    "plt.figure(figsize=(10,5))\n",
    "sns.barplot(x = 'is_1', y = 'ds', hue = 'method', data = data_df)"
   ]
  }
 ],
 "metadata": {
  "kernelspec": {
   "display_name": "Python 3",
   "language": "python",
   "name": "python3"
  },
  "language_info": {
   "codemirror_mode": {
    "name": "ipython",
    "version": 3
   },
   "file_extension": ".py",
   "mimetype": "text/x-python",
   "name": "python",
   "nbconvert_exporter": "python",
   "pygments_lexer": "ipython3",
   "version": "3.8.3"
  }
 },
 "nbformat": 4,
 "nbformat_minor": 4
}
