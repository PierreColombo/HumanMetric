{
 "cells": [
  {
   "cell_type": "code",
   "execution_count": 1,
   "metadata": {
    "execution": {
     "iopub.execute_input": "2022-01-20T20:33:41.350Z",
     "iopub.status.busy": "2022-01-20T20:33:41.342Z",
     "iopub.status.idle": "2022-01-20T20:33:43.053Z",
     "shell.execute_reply": "2022-01-20T20:33:43.101Z"
    },
    "jupyter": {
     "outputs_hidden": false,
     "source_hidden": false
    },
    "nteract": {
     "transient": {
      "deleting": false
     }
    }
   },
   "outputs": [
    {
     "ename": "ModuleNotFoundError",
     "evalue": "No module named 'mallows_kendall'",
     "output_type": "error",
     "traceback": [
      "\u001b[0;31m---------------------------------------------------------------------------\u001b[0m",
      "\u001b[0;31mModuleNotFoundError\u001b[0m                       Traceback (most recent call last)",
      "\u001b[0;32m<ipython-input-1-cf886e8151e8>\u001b[0m in \u001b[0;36m<module>\u001b[0;34m\u001b[0m\n\u001b[1;32m     11\u001b[0m \u001b[0;32mimport\u001b[0m \u001b[0msys\u001b[0m\u001b[0;34m\u001b[0m\u001b[0;34m\u001b[0m\u001b[0m\n\u001b[1;32m     12\u001b[0m \u001b[0msys\u001b[0m\u001b[0;34m.\u001b[0m\u001b[0mpath\u001b[0m\u001b[0;34m.\u001b[0m\u001b[0minsert\u001b[0m\u001b[0;34m(\u001b[0m\u001b[0;36m1\u001b[0m\u001b[0;34m,\u001b[0m \u001b[0;34m'../top-k-mallows'\u001b[0m\u001b[0;34m)\u001b[0m\u001b[0;34m\u001b[0m\u001b[0;34m\u001b[0m\u001b[0m\n\u001b[0;32m---> 13\u001b[0;31m \u001b[0;32mimport\u001b[0m \u001b[0mmallows_kendall\u001b[0m \u001b[0;32mas\u001b[0m \u001b[0mmk\u001b[0m\u001b[0;34m\u001b[0m\u001b[0;34m\u001b[0m\u001b[0m\n\u001b[0m\u001b[1;32m     14\u001b[0m \u001b[0;32mimport\u001b[0m \u001b[0mpermutil\u001b[0m \u001b[0;32mas\u001b[0m \u001b[0mpu\u001b[0m\u001b[0;34m\u001b[0m\u001b[0;34m\u001b[0m\u001b[0m\n\u001b[1;32m     15\u001b[0m \u001b[0;34m\u001b[0m\u001b[0m\n",
      "\u001b[0;31mModuleNotFoundError\u001b[0m: No module named 'mallows_kendall'"
     ]
    }
   ],
   "source": [
    "from scipy.spatial.distance import pdist\n",
    "import collections\n",
    "import seaborn as sns\n",
    "import subprocess\n",
    "import numpy as np\n",
    "import itertools as it\n",
    "import scipy as sp\n",
    "import pandas as pd\n",
    "import matplotlib.pyplot as plt\n",
    "from  imp import reload\n",
    "import sys\n",
    "sys.path.insert(1, '../top-k-mallows')\n",
    "import mallows_kendall as mk\n",
    "import permutil as pu\n",
    "\n"
   ]
  },
  {
   "cell_type": "markdown",
   "metadata": {
    "nteract": {
     "transient": {
      "deleting": false
     }
    }
   },
   "source": [
    "# what happens as more and more metrics are corrpted?\n"
   ]
  },
  {
   "cell_type": "code",
   "execution_count": null,
   "metadata": {
    "execution": {
     "iopub.execute_input": "2022-01-20T21:25:54.236Z",
     "iopub.status.busy": "2022-01-20T21:25:54.231Z",
     "iopub.status.idle": "2022-01-20T21:25:54.243Z",
     "shell.execute_reply": "2022-01-20T21:25:54.246Z"
    },
    "jupyter": {
     "outputs_hidden": false,
     "source_hidden": false
    },
    "nteract": {
     "transient": {
      "deleting": false
     }
    }
   },
   "outputs": [],
   "source": [
    "def phi_to_w(phi):\n",
    "    return np.exp([n-phi*i for i in range(n)])\n",
    "\n",
    "def Borda_u_m(data):\n",
    "    return data.sum(axis=1).argsort().argsort().sum(axis=0).argsort().argsort()\n",
    "def Borda_m_u(data):\n",
    "    return data.sum(axis=0).argsort().argsort().sum(axis=0).argsort().argsort()\n",
    "def Borda(data):\n",
    "    return data.reshape(m*p,-1).sum(axis=0).argsort().argsort()\n",
    "\n",
    "def Mean_u_m(data):\n",
    "    return data.mean(axis=1).mean(axis=0).argsort().argsort()[::-1]\n",
    "def Mean_m_u(data):\n",
    "    return data.mean(axis=0).mean(axis=0).argsort().argsort()[::-1]\n",
    "def Mean(data):\n",
    "    return data.reshape(m*p,-1).mean(axis=0).argsort().argsort()[::-1]"
   ]
  },
  {
   "cell_type": "code",
   "execution_count": null,
   "metadata": {
    "execution": {
     "iopub.execute_input": "2022-01-20T21:45:20.235Z",
     "iopub.status.busy": "2022-01-20T21:45:20.230Z",
     "iopub.status.idle": "2022-01-20T21:45:23.419Z",
     "shell.execute_reply": "2022-01-20T21:45:23.444Z"
    },
    "jupyter": {
     "outputs_hidden": false,
     "source_hidden": false
    },
    "nteract": {
     "transient": {
      "deleting": false
     }
    }
   },
   "outputs": [],
   "source": [
    "\n",
    "n = 10 # numer of systems\n",
    "m = 11 # numner of metrics\n",
    "p = 12 # number of utterances\n",
    "repes = 10\n",
    "N = n*(n-1)/2\n",
    "phis_honest = [.01, .1,.5] \n",
    "\n",
    "res, sol=[] , []\n",
    "for repe in range(repes):\n",
    "    for phi_honest in phis_honest : #np.linspace(0,.1, 2):\n",
    "        honest_full = pu.plackett_luce_sample(m*p,n,w=phi_to_w(phi_honest))\n",
    "        honest_full= honest_full.reshape(m,p,n)\n",
    "\n",
    "    for num_corrupted_metrics in range(m):\n",
    "        bum, bmu, b = Borda_u_m(honest_full),Borda_m_u(honest_full),Borda(honest_full)\n",
    "        dum, dmu, db = mk.distance(bum), mk.distance(bmu), mk.distance(b)\n",
    "        res.append([repe,phi_honest,num_corrupted_metrics,dum, dmu, db])\n",
    "        # now, at the end of the iter , we corrupt . \n",
    "        manip = np.tile(np.arange(n)[::-1], (p, 1))  \n",
    "        honest_full[num_corrupted_metrics,:,:] = manip\n",
    "\n",
    "df = pd.DataFrame(res,columns=['repe','Dispersion','# Corrupted Metrics','Uter>Metric', 'Metric>Uter', 'BordaAll'])\n",
    "df = df.melt(id_vars=['repe','Dispersion','# Corrupted Metrics'],var_name='Agg_type',value_name='Error')\n",
    "df['Error'] = df['Error']/N\n",
    "sns.lineplot(data=df,x='# Corrupted Metrics',y='Error', style='Dispersion',hue='Agg_type')"
   ]
  },
  {
   "cell_type": "code",
   "execution_count": 95,
   "metadata": {
    "collapsed": true,
    "execution": {
     "iopub.execute_input": "2022-01-20T21:49:32.383Z",
     "iopub.status.busy": "2022-01-20T21:49:32.378Z",
     "iopub.status.idle": "2022-01-20T21:49:32.642Z",
     "shell.execute_reply": "2022-01-20T21:49:32.649Z"
    },
    "jupyter": {
     "outputs_hidden": false,
     "source_hidden": false
    },
    "nteract": {
     "transient": {
      "deleting": false
     }
    }
   },
   "outputs": [
    {
     "data": {
      "text/plain": [
       "<AxesSubplot:xlabel='# Corrupted Metrics', ylabel='Error'>"
      ]
     },
     "execution_count": 95,
     "metadata": {},
     "output_type": "execute_result"
    },
    {
     "data": {
      "image/png": "[encoded data removed]",
      "text/plain": [
       "<Figure size 432x288 with 1 Axes>"
      ]
     },
     "metadata": {
      "needs_background": "light"
     },
     "output_type": "display_data"
    }
   ],
   "source": [
    "manip_factor = 1000\n",
    "repes = 1\n",
    "res, sol=[] , []\n",
    "for repe in range(repes):\n",
    "    for phi_honest in phis_honest : \n",
    "        honest_full = np.array([np.random.gumbel(phi_to_w(phi_honest), 1) for i in range(m*p)])\n",
    "        honest_full= honest_full.reshape(m,p,n)\n",
    "    for num_corrupted_metrics in range(m):\n",
    "        bum, bmu, b = Mean_u_m(honest_full),Mean_m_u(honest_full),Mean(honest_full)\n",
    "        dum, dmu, db = mk.distance(bum), mk.distance(bmu), mk.distance(b)\n",
    "        res.append([repe,phi_honest,num_corrupted_metrics,dum, dmu, db])\n",
    "        manip = np.tile(np.random.gumbel(manip_factor*phi_to_w(1), 1)[::-1], (p, 1))  \n",
    "        honest_full[num_corrupted_metrics,:,:] = manip\n",
    "\n",
    "\n",
    "df = pd.DataFrame(res,columns=['repe','Dispersion','# Corrupted Metrics','Uter>Metric', 'Metric>Uter', 'BordaAll'])\n",
    "df = df.melt(id_vars=['repe','Dispersion','# Corrupted Metrics'],var_name='Agg_type',value_name='Error')\n",
    "df['Error'] = df['Error']/N\n",
    "sns.lineplot(data=df,x='# Corrupted Metrics',y='Error', style='Dispersion',hue='Agg_type')"
   ]
  }
 ],
 "metadata": {
  "kernel_info": {
   "name": "python3"
  },
  "kernelspec": {
   "display_name": "Python 3",
   "language": "python",
   "name": "python3"
  },
  "language_info": {
   "codemirror_mode": {
    "name": "ipython",
    "version": 3
   },
   "file_extension": ".py",
   "mimetype": "text/x-python",
   "name": "python",
   "nbconvert_exporter": "python",
   "pygments_lexer": "ipython3",
   "version": "3.8.3"
  },
  "nteract": {
   "version": "0.28.0"
  }
 },
 "nbformat": 4,
 "nbformat_minor": 1
}
